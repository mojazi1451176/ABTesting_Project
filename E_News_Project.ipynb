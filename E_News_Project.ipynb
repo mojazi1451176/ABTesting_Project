{
 "cells": [
  {
   "cell_type": "code",
   "execution_count": 35,
   "id": "a22cb1fb-ca7f-4566-8c71-a823e0cbea3e",
   "metadata": {},
   "outputs": [
    {
     "data": {
      "text/plain": [
       "'1.13.1'"
      ]
     },
     "execution_count": 35,
     "metadata": {},
     "output_type": "execute_result"
    }
   ],
   "source": [
    "# import the scipy and check the version to be sure that the version is above 1.6.1.\n",
    "import scipy\n",
    "scipy.__version__"
   ]
  },
  {
   "cell_type": "code",
   "execution_count": 36,
   "id": "63654001-cd66-4c87-9ef7-a467b5115c9c",
   "metadata": {},
   "outputs": [],
   "source": [
    "#import the important packages\n",
    "import pandas as pd #library used for data manipulation and analysis\n",
    "import numpy as np # library used for working with arrays.\n",
    "import matplotlib.pyplot as plt # library for plots and visualisations\n",
    "import seaborn as sns # library for visualisations\n",
    "%matplotlib inline\n",
    "\n",
    "import scipy.stats as stats # this library contains a large number of probability distributions as well as a growing library of statistical functions."
   ]
  },
  {
   "cell_type": "code",
   "execution_count": 37,
   "id": "f5076b84-1523-42c3-8e9e-0cf5c2d2f482",
   "metadata": {},
   "outputs": [],
   "source": [
    "# Importing the excel file\n",
    "df = pd.read_csv(\"C:\\\\Users\\\\moham\\\\Downloads\\\\Great Learning\\\\Week7\\\\abtest.csv\")"
   ]
  },
  {
   "cell_type": "code",
   "execution_count": 38,
   "id": "95f332eb-7527-422b-8c83-ad49c912dcd3",
   "metadata": {},
   "outputs": [],
   "source": [
    "# Like any other analysis and AB Testing, I would want to explore the data to get familiar with what it is I am dealing with. "
   ]
  },
  {
   "cell_type": "code",
   "execution_count": 39,
   "id": "deefc2a0-7267-426d-b868-3f6e81a0b860",
   "metadata": {},
   "outputs": [
    {
     "data": {
      "text/html": [
       "<div>\n",
       "<style scoped>\n",
       "    .dataframe tbody tr th:only-of-type {\n",
       "        vertical-align: middle;\n",
       "    }\n",
       "\n",
       "    .dataframe tbody tr th {\n",
       "        vertical-align: top;\n",
       "    }\n",
       "\n",
       "    .dataframe thead th {\n",
       "        text-align: right;\n",
       "    }\n",
       "</style>\n",
       "<table border=\"1\" class=\"dataframe\">\n",
       "  <thead>\n",
       "    <tr style=\"text-align: right;\">\n",
       "      <th></th>\n",
       "      <th>user_id</th>\n",
       "      <th>group</th>\n",
       "      <th>landing_page</th>\n",
       "      <th>time_spent_on_the_page</th>\n",
       "      <th>converted</th>\n",
       "      <th>language_preferred</th>\n",
       "    </tr>\n",
       "  </thead>\n",
       "  <tbody>\n",
       "    <tr>\n",
       "      <th>0</th>\n",
       "      <td>546592</td>\n",
       "      <td>control</td>\n",
       "      <td>old</td>\n",
       "      <td>3.48</td>\n",
       "      <td>no</td>\n",
       "      <td>Spanish</td>\n",
       "    </tr>\n",
       "    <tr>\n",
       "      <th>1</th>\n",
       "      <td>546468</td>\n",
       "      <td>treatment</td>\n",
       "      <td>new</td>\n",
       "      <td>7.13</td>\n",
       "      <td>yes</td>\n",
       "      <td>English</td>\n",
       "    </tr>\n",
       "    <tr>\n",
       "      <th>2</th>\n",
       "      <td>546462</td>\n",
       "      <td>treatment</td>\n",
       "      <td>new</td>\n",
       "      <td>4.40</td>\n",
       "      <td>no</td>\n",
       "      <td>Spanish</td>\n",
       "    </tr>\n",
       "    <tr>\n",
       "      <th>3</th>\n",
       "      <td>546567</td>\n",
       "      <td>control</td>\n",
       "      <td>old</td>\n",
       "      <td>3.02</td>\n",
       "      <td>no</td>\n",
       "      <td>French</td>\n",
       "    </tr>\n",
       "    <tr>\n",
       "      <th>4</th>\n",
       "      <td>546459</td>\n",
       "      <td>treatment</td>\n",
       "      <td>new</td>\n",
       "      <td>4.75</td>\n",
       "      <td>yes</td>\n",
       "      <td>Spanish</td>\n",
       "    </tr>\n",
       "  </tbody>\n",
       "</table>\n",
       "</div>"
      ],
      "text/plain": [
       "   user_id      group landing_page  time_spent_on_the_page converted  \\\n",
       "0   546592    control          old                    3.48        no   \n",
       "1   546468  treatment          new                    7.13       yes   \n",
       "2   546462  treatment          new                    4.40        no   \n",
       "3   546567    control          old                    3.02        no   \n",
       "4   546459  treatment          new                    4.75       yes   \n",
       "\n",
       "  language_preferred  \n",
       "0            Spanish  \n",
       "1            English  \n",
       "2            Spanish  \n",
       "3             French  \n",
       "4            Spanish  "
      ]
     },
     "execution_count": 39,
     "metadata": {},
     "output_type": "execute_result"
    }
   ],
   "source": [
    "# Checking out the top and bottom five rows\n",
    "df.head()"
   ]
  },
  {
   "cell_type": "code",
   "execution_count": 40,
   "id": "d42a3d28-e96e-4690-a6e0-55ebe0b884ad",
   "metadata": {},
   "outputs": [
    {
     "data": {
      "text/html": [
       "<div>\n",
       "<style scoped>\n",
       "    .dataframe tbody tr th:only-of-type {\n",
       "        vertical-align: middle;\n",
       "    }\n",
       "\n",
       "    .dataframe tbody tr th {\n",
       "        vertical-align: top;\n",
       "    }\n",
       "\n",
       "    .dataframe thead th {\n",
       "        text-align: right;\n",
       "    }\n",
       "</style>\n",
       "<table border=\"1\" class=\"dataframe\">\n",
       "  <thead>\n",
       "    <tr style=\"text-align: right;\">\n",
       "      <th></th>\n",
       "      <th>user_id</th>\n",
       "      <th>group</th>\n",
       "      <th>landing_page</th>\n",
       "      <th>time_spent_on_the_page</th>\n",
       "      <th>converted</th>\n",
       "      <th>language_preferred</th>\n",
       "    </tr>\n",
       "  </thead>\n",
       "  <tbody>\n",
       "    <tr>\n",
       "      <th>95</th>\n",
       "      <td>546446</td>\n",
       "      <td>treatment</td>\n",
       "      <td>new</td>\n",
       "      <td>5.15</td>\n",
       "      <td>no</td>\n",
       "      <td>Spanish</td>\n",
       "    </tr>\n",
       "    <tr>\n",
       "      <th>96</th>\n",
       "      <td>546544</td>\n",
       "      <td>control</td>\n",
       "      <td>old</td>\n",
       "      <td>6.52</td>\n",
       "      <td>yes</td>\n",
       "      <td>English</td>\n",
       "    </tr>\n",
       "    <tr>\n",
       "      <th>97</th>\n",
       "      <td>546472</td>\n",
       "      <td>treatment</td>\n",
       "      <td>new</td>\n",
       "      <td>7.07</td>\n",
       "      <td>yes</td>\n",
       "      <td>Spanish</td>\n",
       "    </tr>\n",
       "    <tr>\n",
       "      <th>98</th>\n",
       "      <td>546481</td>\n",
       "      <td>treatment</td>\n",
       "      <td>new</td>\n",
       "      <td>6.20</td>\n",
       "      <td>yes</td>\n",
       "      <td>Spanish</td>\n",
       "    </tr>\n",
       "    <tr>\n",
       "      <th>99</th>\n",
       "      <td>546483</td>\n",
       "      <td>treatment</td>\n",
       "      <td>new</td>\n",
       "      <td>5.86</td>\n",
       "      <td>yes</td>\n",
       "      <td>English</td>\n",
       "    </tr>\n",
       "  </tbody>\n",
       "</table>\n",
       "</div>"
      ],
      "text/plain": [
       "    user_id      group landing_page  time_spent_on_the_page converted  \\\n",
       "95   546446  treatment          new                    5.15        no   \n",
       "96   546544    control          old                    6.52       yes   \n",
       "97   546472  treatment          new                    7.07       yes   \n",
       "98   546481  treatment          new                    6.20       yes   \n",
       "99   546483  treatment          new                    5.86       yes   \n",
       "\n",
       "   language_preferred  \n",
       "95            Spanish  \n",
       "96            English  \n",
       "97            Spanish  \n",
       "98            Spanish  \n",
       "99            English  "
      ]
     },
     "execution_count": 40,
     "metadata": {},
     "output_type": "execute_result"
    }
   ],
   "source": [
    "df.tail()"
   ]
  },
  {
   "cell_type": "code",
   "execution_count": 41,
   "id": "899537f3-5406-469e-8fcc-6a539b390fe0",
   "metadata": {},
   "outputs": [
    {
     "data": {
      "text/plain": [
       "(100, 6)"
      ]
     },
     "execution_count": 41,
     "metadata": {},
     "output_type": "execute_result"
    }
   ],
   "source": [
    "# Now, let's have a look at how many rows and columns we have in the data\n",
    "df.shape"
   ]
  },
  {
   "cell_type": "code",
   "execution_count": 42,
   "id": "446033e4-8c5e-4e5d-a0e1-d7e112e24663",
   "metadata": {},
   "outputs": [
    {
     "name": "stdout",
     "output_type": "stream",
     "text": [
      "<class 'pandas.core.frame.DataFrame'>\n",
      "RangeIndex: 100 entries, 0 to 99\n",
      "Data columns (total 6 columns):\n",
      " #   Column                  Non-Null Count  Dtype  \n",
      "---  ------                  --------------  -----  \n",
      " 0   user_id                 100 non-null    int64  \n",
      " 1   group                   100 non-null    object \n",
      " 2   landing_page            100 non-null    object \n",
      " 3   time_spent_on_the_page  100 non-null    float64\n",
      " 4   converted               100 non-null    object \n",
      " 5   language_preferred      100 non-null    object \n",
      "dtypes: float64(1), int64(1), object(4)\n",
      "memory usage: 4.8+ KB\n"
     ]
    }
   ],
   "source": [
    "# Now, let's have a look at the data type of columns to see what our data is composed of.\n",
    "df.info()\n",
    "# We have four columns that are categorical and two columns that are numerical. "
   ]
  },
  {
   "cell_type": "code",
   "execution_count": 43,
   "id": "a43bcb75-fe50-49e5-9fb7-5105d52940e7",
   "metadata": {},
   "outputs": [
    {
     "data": {
      "text/html": [
       "<div>\n",
       "<style scoped>\n",
       "    .dataframe tbody tr th:only-of-type {\n",
       "        vertical-align: middle;\n",
       "    }\n",
       "\n",
       "    .dataframe tbody tr th {\n",
       "        vertical-align: top;\n",
       "    }\n",
       "\n",
       "    .dataframe thead th {\n",
       "        text-align: right;\n",
       "    }\n",
       "</style>\n",
       "<table border=\"1\" class=\"dataframe\">\n",
       "  <thead>\n",
       "    <tr style=\"text-align: right;\">\n",
       "      <th></th>\n",
       "      <th>user_id</th>\n",
       "      <th>time_spent_on_the_page</th>\n",
       "    </tr>\n",
       "  </thead>\n",
       "  <tbody>\n",
       "    <tr>\n",
       "      <th>count</th>\n",
       "      <td>100.000000</td>\n",
       "      <td>100.000000</td>\n",
       "    </tr>\n",
       "    <tr>\n",
       "      <th>mean</th>\n",
       "      <td>546517.000000</td>\n",
       "      <td>5.377800</td>\n",
       "    </tr>\n",
       "    <tr>\n",
       "      <th>std</th>\n",
       "      <td>52.295779</td>\n",
       "      <td>2.378166</td>\n",
       "    </tr>\n",
       "    <tr>\n",
       "      <th>min</th>\n",
       "      <td>546443.000000</td>\n",
       "      <td>0.190000</td>\n",
       "    </tr>\n",
       "    <tr>\n",
       "      <th>25%</th>\n",
       "      <td>546467.750000</td>\n",
       "      <td>3.880000</td>\n",
       "    </tr>\n",
       "    <tr>\n",
       "      <th>50%</th>\n",
       "      <td>546492.500000</td>\n",
       "      <td>5.415000</td>\n",
       "    </tr>\n",
       "    <tr>\n",
       "      <th>75%</th>\n",
       "      <td>546567.250000</td>\n",
       "      <td>7.022500</td>\n",
       "    </tr>\n",
       "    <tr>\n",
       "      <th>max</th>\n",
       "      <td>546592.000000</td>\n",
       "      <td>10.710000</td>\n",
       "    </tr>\n",
       "  </tbody>\n",
       "</table>\n",
       "</div>"
      ],
      "text/plain": [
       "             user_id  time_spent_on_the_page\n",
       "count     100.000000              100.000000\n",
       "mean   546517.000000                5.377800\n",
       "std        52.295779                2.378166\n",
       "min    546443.000000                0.190000\n",
       "25%    546467.750000                3.880000\n",
       "50%    546492.500000                5.415000\n",
       "75%    546567.250000                7.022500\n",
       "max    546592.000000               10.710000"
      ]
     },
     "execution_count": 43,
     "metadata": {},
     "output_type": "execute_result"
    }
   ],
   "source": [
    "# Now, let's have a look at the statics of our data\n",
    "# The following function includes stats for numberical data. \n",
    "df.describe()"
   ]
  },
  {
   "cell_type": "code",
   "execution_count": 44,
   "id": "bd221da0-2c21-4207-a4db-b5e6b40e4b5d",
   "metadata": {},
   "outputs": [
    {
     "data": {
      "text/html": [
       "<div>\n",
       "<style scoped>\n",
       "    .dataframe tbody tr th:only-of-type {\n",
       "        vertical-align: middle;\n",
       "    }\n",
       "\n",
       "    .dataframe tbody tr th {\n",
       "        vertical-align: top;\n",
       "    }\n",
       "\n",
       "    .dataframe thead th {\n",
       "        text-align: right;\n",
       "    }\n",
       "</style>\n",
       "<table border=\"1\" class=\"dataframe\">\n",
       "  <thead>\n",
       "    <tr style=\"text-align: right;\">\n",
       "      <th></th>\n",
       "      <th>user_id</th>\n",
       "      <th>group</th>\n",
       "      <th>landing_page</th>\n",
       "      <th>time_spent_on_the_page</th>\n",
       "      <th>converted</th>\n",
       "      <th>language_preferred</th>\n",
       "    </tr>\n",
       "  </thead>\n",
       "  <tbody>\n",
       "    <tr>\n",
       "      <th>count</th>\n",
       "      <td>100.000000</td>\n",
       "      <td>100</td>\n",
       "      <td>100</td>\n",
       "      <td>100.000000</td>\n",
       "      <td>100</td>\n",
       "      <td>100</td>\n",
       "    </tr>\n",
       "    <tr>\n",
       "      <th>unique</th>\n",
       "      <td>NaN</td>\n",
       "      <td>2</td>\n",
       "      <td>2</td>\n",
       "      <td>NaN</td>\n",
       "      <td>2</td>\n",
       "      <td>3</td>\n",
       "    </tr>\n",
       "    <tr>\n",
       "      <th>top</th>\n",
       "      <td>NaN</td>\n",
       "      <td>control</td>\n",
       "      <td>old</td>\n",
       "      <td>NaN</td>\n",
       "      <td>yes</td>\n",
       "      <td>Spanish</td>\n",
       "    </tr>\n",
       "    <tr>\n",
       "      <th>freq</th>\n",
       "      <td>NaN</td>\n",
       "      <td>50</td>\n",
       "      <td>50</td>\n",
       "      <td>NaN</td>\n",
       "      <td>54</td>\n",
       "      <td>34</td>\n",
       "    </tr>\n",
       "    <tr>\n",
       "      <th>mean</th>\n",
       "      <td>546517.000000</td>\n",
       "      <td>NaN</td>\n",
       "      <td>NaN</td>\n",
       "      <td>5.377800</td>\n",
       "      <td>NaN</td>\n",
       "      <td>NaN</td>\n",
       "    </tr>\n",
       "    <tr>\n",
       "      <th>std</th>\n",
       "      <td>52.295779</td>\n",
       "      <td>NaN</td>\n",
       "      <td>NaN</td>\n",
       "      <td>2.378166</td>\n",
       "      <td>NaN</td>\n",
       "      <td>NaN</td>\n",
       "    </tr>\n",
       "    <tr>\n",
       "      <th>min</th>\n",
       "      <td>546443.000000</td>\n",
       "      <td>NaN</td>\n",
       "      <td>NaN</td>\n",
       "      <td>0.190000</td>\n",
       "      <td>NaN</td>\n",
       "      <td>NaN</td>\n",
       "    </tr>\n",
       "    <tr>\n",
       "      <th>25%</th>\n",
       "      <td>546467.750000</td>\n",
       "      <td>NaN</td>\n",
       "      <td>NaN</td>\n",
       "      <td>3.880000</td>\n",
       "      <td>NaN</td>\n",
       "      <td>NaN</td>\n",
       "    </tr>\n",
       "    <tr>\n",
       "      <th>50%</th>\n",
       "      <td>546492.500000</td>\n",
       "      <td>NaN</td>\n",
       "      <td>NaN</td>\n",
       "      <td>5.415000</td>\n",
       "      <td>NaN</td>\n",
       "      <td>NaN</td>\n",
       "    </tr>\n",
       "    <tr>\n",
       "      <th>75%</th>\n",
       "      <td>546567.250000</td>\n",
       "      <td>NaN</td>\n",
       "      <td>NaN</td>\n",
       "      <td>7.022500</td>\n",
       "      <td>NaN</td>\n",
       "      <td>NaN</td>\n",
       "    </tr>\n",
       "    <tr>\n",
       "      <th>max</th>\n",
       "      <td>546592.000000</td>\n",
       "      <td>NaN</td>\n",
       "      <td>NaN</td>\n",
       "      <td>10.710000</td>\n",
       "      <td>NaN</td>\n",
       "      <td>NaN</td>\n",
       "    </tr>\n",
       "  </tbody>\n",
       "</table>\n",
       "</div>"
      ],
      "text/plain": [
       "              user_id    group landing_page  time_spent_on_the_page converted  \\\n",
       "count      100.000000      100          100              100.000000       100   \n",
       "unique            NaN        2            2                     NaN         2   \n",
       "top               NaN  control          old                     NaN       yes   \n",
       "freq              NaN       50           50                     NaN        54   \n",
       "mean    546517.000000      NaN          NaN                5.377800       NaN   \n",
       "std         52.295779      NaN          NaN                2.378166       NaN   \n",
       "min     546443.000000      NaN          NaN                0.190000       NaN   \n",
       "25%     546467.750000      NaN          NaN                3.880000       NaN   \n",
       "50%     546492.500000      NaN          NaN                5.415000       NaN   \n",
       "75%     546567.250000      NaN          NaN                7.022500       NaN   \n",
       "max     546592.000000      NaN          NaN               10.710000       NaN   \n",
       "\n",
       "       language_preferred  \n",
       "count                 100  \n",
       "unique                  3  \n",
       "top               Spanish  \n",
       "freq                   34  \n",
       "mean                  NaN  \n",
       "std                   NaN  \n",
       "min                   NaN  \n",
       "25%                   NaN  \n",
       "50%                   NaN  \n",
       "75%                   NaN  \n",
       "max                   NaN  "
      ]
     },
     "execution_count": 44,
     "metadata": {},
     "output_type": "execute_result"
    }
   ],
   "source": [
    "# We can opt in to include categorial data too. (include='all'), but is not necessary to do that. \n",
    "df.describe(include='all')"
   ]
  },
  {
   "cell_type": "code",
   "execution_count": 45,
   "id": "13f9e4ef-06b7-4c1d-ad84-3a3e64481caa",
   "metadata": {},
   "outputs": [
    {
     "data": {
      "text/plain": [
       "user_id                   0\n",
       "group                     0\n",
       "landing_page              0\n",
       "time_spent_on_the_page    0\n",
       "converted                 0\n",
       "language_preferred        0\n",
       "dtype: int64"
      ]
     },
     "execution_count": 45,
     "metadata": {},
     "output_type": "execute_result"
    }
   ],
   "source": [
    "# Now, let's see if we have any missing data in our rows. \n",
    "df.isnull().sum()"
   ]
  },
  {
   "cell_type": "code",
   "execution_count": 46,
   "id": "835cccb9-bdb4-478f-b58f-5f277f5a9170",
   "metadata": {},
   "outputs": [],
   "source": [
    "# This concludes that we shall not worry about getting any incorrect results due to missing values. "
   ]
  },
  {
   "cell_type": "code",
   "execution_count": 47,
   "id": "71d857e5-556e-4d5d-999e-f240c59ed8b5",
   "metadata": {},
   "outputs": [
    {
     "name": "stdout",
     "output_type": "stream",
     "text": [
      "True\n",
      "No duplicates found.\n",
      "No duplicates found.\n"
     ]
    }
   ],
   "source": [
    "# Now, let's see if there is any duplicate rows in our data. \n",
    "# I want to do it in two different ways. \n",
    "\n",
    "# First method by defining a duplicate function\n",
    "\n",
    "def has_duplicates(df):\n",
    "    \"\"\"\n",
    "    Checks if a list or other iterable has duplicate elements.\n",
    "\n",
    "    Args:\n",
    "        data: The list or iterable to check.\n",
    "\n",
    "    Returns:\n",
    "        True if duplicates exist, False otherwise.\n",
    "    \"\"\"\n",
    "    return len(set(df)) != len(df)\n",
    "\n",
    "\"\"\" This next print statement returns true because it is looking at data to see if there ANY duplicates evern if that duplicates means \n",
    "we someone has more than one preferred language in this case. It was a good lesson to learn. \n",
    "\"\"\"\n",
    "print(has_duplicates(df)) \n",
    "\n",
    "if has_duplicates(df.index): # Pass df.index to check for duplicate rows\n",
    "    print(\"There are duplicates in the data.\")\n",
    "else:\n",
    "    print(\"No duplicates found.\")\n",
    "if has_duplicates(df.index):\n",
    "    print(\"There are duplicates in the data.\")\n",
    "else:\n",
    "    print(\"No duplicates found.\")\n",
    "\n",
    "\n"
   ]
  },
  {
   "cell_type": "code",
   "execution_count": 48,
   "id": "e7212ff4-eec5-4494-8fc7-13164b6a799b",
   "metadata": {},
   "outputs": [
    {
     "name": "stdout",
     "output_type": "stream",
     "text": [
      "0\n"
     ]
    }
   ],
   "source": [
    "# let'see if our data has duplicates or not. \n",
    "duplicates= df.duplicated().sum()\n",
    "print(duplicates)"
   ]
  },
  {
   "cell_type": "code",
   "execution_count": 49,
   "id": "9cf8c5e0-d430-41b5-b42f-cc77bea2da1a",
   "metadata": {},
   "outputs": [],
   "source": [
    "# Now, let's work on the bivariate and univariate analysis through some charts. \n"
   ]
  },
  {
   "cell_type": "code",
   "execution_count": 50,
   "id": "f23016ae-4955-49cd-9633-0a75127feed2",
   "metadata": {},
   "outputs": [
    {
     "data": {
      "image/png": "[encoded data removed]",
      "text/plain": [
       "<Figure size 1200x500 with 2 Axes>"
      ]
     },
     "metadata": {},
     "output_type": "display_data"
    }
   ],
   "source": [
    "# Create a figure with two subplots\n",
    "fig, axes = plt.subplots(1, 2, figsize=(12, 5))\n",
    "\n",
    "# Box Plot\n",
    "sns.boxplot(data=df, x='time_spent_on_the_page', ax=axes[0])\n",
    "axes[0].set_title(\"time_spent_on_the_page\")\n",
    "\n",
    "# Histogram\n",
    "sns.histplot(data=df, x='time_spent_on_the_page', bins=20, kde=True, ax=axes[1])\n",
    "axes[1].set_title(\"time_spent_on_the_page\")\n",
    "\n",
    "# Show the plots\n",
    "plt.show()"
   ]
  },
  {
   "cell_type": "code",
   "execution_count": 51,
   "id": "a93ed3a3-d390-45f4-8ff3-94bfe0f455fe",
   "metadata": {},
   "outputs": [],
   "source": [
    "# The above visualizations indicate that there is almost a normal distribution in the data for the time spend on the page. "
   ]
  },
  {
   "cell_type": "code",
   "execution_count": 52,
   "id": "a0bb56dd-6a44-4e19-9fc9-3b98a07fb09a",
   "metadata": {},
   "outputs": [
    {
     "data": {
      "text/plain": [
       "group\n",
       "control      50\n",
       "treatment    50\n",
       "Name: count, dtype: int64"
      ]
     },
     "execution_count": 52,
     "metadata": {},
     "output_type": "execute_result"
    }
   ],
   "source": [
    "# Next: we want to look at the value counts of the categorical columns and visualize them. \n",
    "df['group'].value_counts()"
   ]
  },
  {
   "cell_type": "code",
   "execution_count": 53,
   "id": "c611ceda-1e46-4cb1-b9e5-628212f36642",
   "metadata": {},
   "outputs": [
    {
     "data": {
      "image/png": "[encoded data removed]",
      "text/plain": [
       "<Figure size 640x480 with 1 Axes>"
      ]
     },
     "metadata": {},
     "output_type": "display_data"
    }
   ],
   "source": [
    "sns.countplot(data=df, x='group', hue=\"group\")\n",
    "plt.title(\"Distribution of Groups\", fontsize=12, fontweight='bold') \n",
    "plt.show()"
   ]
  },
  {
   "cell_type": "code",
   "execution_count": 54,
   "id": "00b36eae-07eb-4cdc-9ab1-df6535a47d52",
   "metadata": {},
   "outputs": [
    {
     "data": {
      "text/plain": [
       "landing_page\n",
       "old    50\n",
       "new    50\n",
       "Name: count, dtype: int64"
      ]
     },
     "execution_count": 54,
     "metadata": {},
     "output_type": "execute_result"
    }
   ],
   "source": [
    "df['landing_page'].value_counts()"
   ]
  },
  {
   "cell_type": "code",
   "execution_count": 55,
   "id": "f553ad65-d520-485f-ade0-ef96dae2c10a",
   "metadata": {},
   "outputs": [
    {
     "name": "stderr",
     "output_type": "stream",
     "text": [
      "C:\\Users\\moham\\AppData\\Local\\Temp\\ipykernel_23528\\1227258890.py:2: FutureWarning: \n",
      "\n",
      "Passing `palette` without assigning `hue` is deprecated and will be removed in v0.14.0. Assign the `x` variable to `hue` and set `legend=False` for the same effect.\n",
      "\n",
      "  sns.countplot(data=df, x='landing_page', palette=\"coolwarm\")\n"
     ]
    },
    {
     "data": {
      "image/png": "[encoded data removed]",
      "text/plain": [
       "<Figure size 640x480 with 1 Axes>"
      ]
     },
     "metadata": {},
     "output_type": "display_data"
    }
   ],
   "source": [
    "# We visualize the landing page distribution. \n",
    "sns.countplot(data=df, x='landing_page', palette=\"coolwarm\")\n",
    "# sns.countplot(data=df, x='landing_page', hue=\"landing_page\")\n",
    "plt.title(\"Distribution of Landing Pages\", fontsize=12, fontweight='bold') \n",
    "\n",
    "plt.show()"
   ]
  },
  {
   "cell_type": "code",
   "execution_count": 56,
   "id": "7008e535-d32c-4529-8809-e70d0e426cc7",
   "metadata": {},
   "outputs": [
    {
     "data": {
      "text/plain": [
       "converted\n",
       "yes    54\n",
       "no     46\n",
       "Name: count, dtype: int64"
      ]
     },
     "execution_count": 56,
     "metadata": {},
     "output_type": "execute_result"
    }
   ],
   "source": [
    "df['converted'].value_counts()"
   ]
  },
  {
   "cell_type": "code",
   "execution_count": 57,
   "id": "a9a7b57a-4c7a-45e8-b944-bb9a181d77be",
   "metadata": {},
   "outputs": [
    {
     "data": {
      "image/png": "[encoded data removed]",
      "text/plain": [
       "<Figure size 640x480 with 1 Axes>"
      ]
     },
     "metadata": {},
     "output_type": "display_data"
    }
   ],
   "source": [
    "# We visualize the conversion's distribution. \n",
    "sns.countplot(data=df, x='converted', hue=\"converted\")\n",
    "# sns.countplot(data=df, x='landing_page', hue=\"landing_page\")\n",
    "plt.title(\"Distribution of Conversions\", fontsize=12, fontweight='bold') \n",
    "\n",
    "plt.show()"
   ]
  },
  {
   "cell_type": "code",
   "execution_count": 58,
   "id": "3a5b3384-5345-4076-8d9a-ab29f5b32a6a",
   "metadata": {},
   "outputs": [
    {
     "data": {
      "text/plain": [
       "language_preferred\n",
       "Spanish    34\n",
       "French     34\n",
       "English    32\n",
       "Name: count, dtype: int64"
      ]
     },
     "execution_count": 58,
     "metadata": {},
     "output_type": "execute_result"
    }
   ],
   "source": [
    "df['language_preferred'].value_counts()"
   ]
  },
  {
   "cell_type": "code",
   "execution_count": 59,
   "id": "0b0f9321-764a-41ff-b794-7247990f2a1d",
   "metadata": {},
   "outputs": [
    {
     "data": {
      "image/png": "[encoded data removed]",
      "text/plain": [
       "<Figure size 640x480 with 1 Axes>"
      ]
     },
     "metadata": {},
     "output_type": "display_data"
    }
   ],
   "source": [
    "# We visualize the preferred languages' distribution. \n",
    "sns.countplot(data=df, x='language_preferred', hue=\"language_preferred\")\n",
    "# sns.countplot(data=df, x='landing_page', hue=\"landing_page\")\n",
    "plt.title(\"Distribution of Preferred Language\", fontsize=12, fontweight='bold') \n",
    "\n",
    "plt.show()"
   ]
  },
  {
   "cell_type": "code",
   "execution_count": 60,
   "id": "1b97f953-f31e-4205-9845-6729dea8ca7d",
   "metadata": {},
   "outputs": [
    {
     "data": {
      "image/png": "[encoded data removed]",
      "text/plain": [
       "<Figure size 1200x500 with 1 Axes>"
      ]
     },
     "metadata": {},
     "output_type": "display_data"
    }
   ],
   "source": [
    "# We, now, compare landing page and the time spent on them. \n",
    "plt.figure(figsize=(12, 5))\n",
    "\n",
    "# Box Plot\n",
    "sns.boxplot(data=df, x='landing_page', y='time_spent_on_the_page')\n",
    "plt.title(\"spent_time vs landing page\")\n",
    "plt.show()"
   ]
  },
  {
   "cell_type": "code",
   "execution_count": 61,
   "id": "93ee5d04-2fbb-459b-9df2-1580c3f39875",
   "metadata": {},
   "outputs": [
    {
     "data": {
      "image/png": "[encoded data removed]",
      "text/plain": [
       "<Figure size 1200x500 with 1 Axes>"
      ]
     },
     "metadata": {},
     "output_type": "display_data"
    }
   ],
   "source": [
    "# We, now, compare conversions and time spent on the new page. \n",
    "plt.figure(figsize=(12, 5))\n",
    "\n",
    "# Box Plot\n",
    "sns.boxplot(data=df, x='converted', y='time_spent_on_the_page')\n",
    "plt.title(\"conversions vs spent_time\")\n",
    "plt.show()"
   ]
  },
  {
   "cell_type": "code",
   "execution_count": 70,
   "id": "8f87866f-070d-4d19-a670-47c7b6c316b4",
   "metadata": {},
   "outputs": [
    {
     "data": {
      "image/png": "[encoded data removed]",
      "text/plain": [
       "<Figure size 1200x500 with 1 Axes>"
      ]
     },
     "metadata": {},
     "output_type": "display_data"
    }
   ],
   "source": [
    "# We, now, compare the time spent on the newly created page based on preferred languages. \n",
    "plt.figure(figsize=(12, 5))\n",
    "\n",
    "# Box Plot\n",
    "sns.boxplot(data=df, x='language_preferred', y='time_spent_on_the_page')\n",
    "plt.title(\"preferred lg vs spent_time\")\n",
    "plt.show()"
   ]
  },
  {
   "cell_type": "code",
   "execution_count": 63,
   "id": "cbcc69f7-b440-4dec-8ffe-cf6cad501d68",
   "metadata": {},
   "outputs": [
    {
     "name": "stdout",
     "output_type": "stream",
     "text": [
      "Time spend on the new page is: 1.82\n",
      "Time spend on the old page is: 2.58\n"
     ]
    }
   ],
   "source": [
    "# Now, let's answer the posed questions. \n",
    "# 1. Do the users spend more time on the new landing page than the existing landing page?\n",
    "# Null hyp: They spend equal time on each page. \n",
    "# Alt hyp: They spend more time on the new landing page. \n",
    "\n",
    "Time_Spent_Newpage= df[df['landing_page']=='new']['time_spent_on_the_page']\n",
    "# time_spent_new = df[df['landing_page'] == 'new']['time_spent_on_the_page']\n",
    "Time_Spent_oldpage= df[df['landing_page']=='old']['time_spent_on_the_page']\n",
    "print('Time spend on the new page is:', round(Time_Spent_Newpage.std(),2) )\n",
    "print('Time spend on the old page is:', round(Time_Spent_oldpage.std(), 2))"
   ]
  },
  {
   "cell_type": "code",
   "execution_count": 64,
   "id": "ad6feb42-6932-46e0-ad6e-5c299cefe257",
   "metadata": {},
   "outputs": [
    {
     "name": "stdout",
     "output_type": "stream",
     "text": [
      "The p-value is 0.00026\n"
     ]
    }
   ],
   "source": [
    "# Q 1 requires a t test with two independent samples to find out the truth. \n",
    "\n",
    "#import the required functions\n",
    "from scipy.stats import ttest_ind\n",
    "\n",
    "# find the p-value\n",
    "test_stat, p_value = ttest_ind(Time_Spent_Newpage, Time_Spent_oldpage, equal_var = True, alternative = 'two-sided')\n",
    "print('The p-value is ' + str(round(p_value,5)))"
   ]
  },
  {
   "cell_type": "code",
   "execution_count": 65,
   "id": "30b9dd7d-5949-4078-82ca-0d621d2f1cd2",
   "metadata": {},
   "outputs": [
    {
     "name": "stdout",
     "output_type": "stream",
     "text": [
      "There is significant evidence to reject the null hypothesis\n"
     ]
    }
   ],
   "source": [
    "if p_value< .05:\n",
    "    print('There is significant evidence to reject the null hypothesis')\n",
    "else:\n",
    "    print('There is not signficant evident to reject the null hypothesis')"
   ]
  },
  {
   "cell_type": "code",
   "execution_count": 66,
   "id": "b7b33211-4234-491f-b8c3-9d7b64ef4273",
   "metadata": {},
   "outputs": [
    {
     "data": {
      "text/plain": [
       "' Question 2. Is the conversion rate (the proportion of users who visit the landing page and get converted) for the new page greater than the conversion rate for the old page? '"
      ]
     },
     "execution_count": 66,
     "metadata": {},
     "output_type": "execute_result"
    }
   ],
   "source": [
    "\"\"\" Question 2. Is the conversion rate (the proportion of users who visit the landing page and get converted) for the new page greater than the conversion rate for the old page? \"\"\"\n",
    "# null hypothesis: The conversion rate for the new landing page is the same as the old one. \n",
    "# Alt hyp: The conversion rate for the new page is greater than the old page. "
   ]
  },
  {
   "cell_type": "code",
   "execution_count": 74,
   "id": "cdfce4fb-b428-484a-8171-4670ccf20977",
   "metadata": {},
   "outputs": [
    {
     "name": "stdout",
     "output_type": "stream",
     "text": [
      "converted       no   yes\n",
      "landing_page            \n",
      "new           0.34  0.66\n",
      "old           0.58  0.42\n",
      "Chi-Square Statistic: 0.0\n",
      "P-value: 1.0\n"
     ]
    }
   ],
   "source": [
    "# We would need to use a chi test here because we're dealing with categorical data. \n",
    "import pandas as pd\n",
    "from scipy.stats import chi2_contingency\n",
    "\n",
    "# df1 = pd.DataFrame(df)\n",
    "\n",
    "# Create a contingency table\n",
    "contingency_table = pd.crosstab(df['landing_page'], df['converted'], normalize= 'index')\n",
    "print(contingency_table)\n",
    "\n",
    "chi2_stat, p_value, dof, expected = chi2_contingency(contingency_table)\n",
    "\n",
    "print(\"Chi-Square Statistic:\", chi2_stat)\n",
    "print(\"P-value:\", p_value)"
   ]
  },
  {
   "cell_type": "code",
   "execution_count": 76,
   "id": "e64dcecf-4813-44db-94ad-bf258d784597",
   "metadata": {},
   "outputs": [
    {
     "data": {
      "image/png": "[encoded data removed]",
      "text/plain": [
       "<Figure size 600x800 with 1 Axes>"
      ]
     },
     "metadata": {},
     "output_type": "display_data"
    }
   ],
   "source": [
    "# let's visually compare the conversion rate for the new page and the conversion rate for the old page\n",
    "pd.crosstab(df['landing_page'],df['converted'],normalize='index').plot(kind=\"bar\", figsize=(6,8),stacked=True)\n",
    "plt.legend()\n",
    "plt.title(\"landing page vs conversions\")\n",
    "plt.show()"
   ]
  },
  {
   "cell_type": "code",
   "execution_count": 82,
   "id": "f68b1c3b-8f71-49ec-9046-810f418750f7",
   "metadata": {},
   "outputs": [
    {
     "name": "stdout",
     "output_type": "stream",
     "text": [
      "The numbers of users served the new and old pages are 50 and 50 respectively\n"
     ]
    }
   ],
   "source": [
    "# calculate the number of converted users in the treatment group\n",
    "# newly_converted = df[df['group'] == 'treatment']['converted'].value_counts()['yes']\n",
    "newly_converted = df[df['group'] == 'treatment']['converted'].get('yes', 0)\n",
    "# calculate the number of converted users in the control group\n",
    "# old_converted = df[df['group'] == 'control']['converted'].value_counts()['yes'] \n",
    "old_converted = df[df['group'] == 'control']['converted'].value_counts().get('yes', 0)\n",
    "# adding get('yes', 0) helps to avoid getting an error if there is no yes/no in the column.\n",
    "\n",
    "num_control = df.group.value_counts()['control'] # total number of users in the control group\n",
    "num_treatment = df.group.value_counts()['treatment'] # total number of users in the treatment group\n",
    "\n",
    "print('The numbers of users served the new and old pages are {0} and {1} respectively'.format(num_control, num_treatment ))"
   ]
  },
  {
   "cell_type": "code",
   "execution_count": 84,
   "id": "043fc947-bbb6-4468-9ee7-f8db410e32d8",
   "metadata": {},
   "outputs": [
    {
     "name": "stdout",
     "output_type": "stream",
     "text": [
      "The p-value is 2.525497122538792e-07\n"
     ]
    }
   ],
   "source": [
    "# The question is asking to find out the proportion of those who visited the newly created page and became subscribers. \n",
    "# So, we need to use a proportions_ztest because we already have all the values. \n",
    "from statsmodels.stats.proportion import proportions_ztest\n",
    "\n",
    "# write the code to calculate the p-value\n",
    "test_stat, p_value = proportions_ztest([newly_converted, old_converted] , [num_treatment, num_control], alternative ='two-sided') \n",
    "\n",
    "\n",
    "print('The p-value is', p_value)"
   ]
  },
  {
   "cell_type": "code",
   "execution_count": 86,
   "id": "25f67332-f755-4e30-baae-dc42c268723c",
   "metadata": {},
   "outputs": [
    {
     "name": "stdout",
     "output_type": "stream",
     "text": [
      "There is significant evidence to reject the null hypothesis\n"
     ]
    }
   ],
   "source": [
    "if p_value< .05:\n",
    "    print('There is significant evidence to reject the null hypothesis')\n",
    "else:\n",
    "    print('There is not signficant evident to reject the null hypothesis')"
   ]
  },
  {
   "cell_type": "code",
   "execution_count": 88,
   "id": "fbf2d28b-ee29-46c8-ae70-39cf9265337c",
   "metadata": {},
   "outputs": [],
   "source": [
    "# 3. Does the converted status depend on the preferred language?"
   ]
  },
  {
   "cell_type": "code",
   "execution_count": 90,
   "id": "99b107b3-7a94-4faf-b8b3-eddb2c4f2c93",
   "metadata": {},
   "outputs": [
    {
     "data": {
      "image/png": "[encoded data removed]",
      "text/plain": [
       "<Figure size 600x800 with 1 Axes>"
      ]
     },
     "metadata": {},
     "output_type": "display_data"
    }
   ],
   "source": [
    "# We need to use a crosstable so that we can visually plot the dependency between conversion status and preferred langauge\n",
    "pd.crosstab(df['converted'],df['language_preferred'],normalize='index').plot(kind=\"bar\", figsize=(6,8), stacked=True)\n",
    "plt.legend()\n",
    "plt.title(\"conversions vs pref_language\")\n",
    "plt.show()\n"
   ]
  },
  {
   "cell_type": "code",
   "execution_count": 92,
   "id": "e5576dc8-5d7a-4865-bc7b-06f8dca41ad3",
   "metadata": {},
   "outputs": [
    {
     "data": {
      "text/html": [
       "<div>\n",
       "<style scoped>\n",
       "    .dataframe tbody tr th:only-of-type {\n",
       "        vertical-align: middle;\n",
       "    }\n",
       "\n",
       "    .dataframe tbody tr th {\n",
       "        vertical-align: top;\n",
       "    }\n",
       "\n",
       "    .dataframe thead th {\n",
       "        text-align: right;\n",
       "    }\n",
       "</style>\n",
       "<table border=\"1\" class=\"dataframe\">\n",
       "  <thead>\n",
       "    <tr style=\"text-align: right;\">\n",
       "      <th>language_preferred</th>\n",
       "      <th>English</th>\n",
       "      <th>French</th>\n",
       "      <th>Spanish</th>\n",
       "    </tr>\n",
       "    <tr>\n",
       "      <th>converted</th>\n",
       "      <th></th>\n",
       "      <th></th>\n",
       "      <th></th>\n",
       "    </tr>\n",
       "  </thead>\n",
       "  <tbody>\n",
       "    <tr>\n",
       "      <th>no</th>\n",
       "      <td>0.239130</td>\n",
       "      <td>0.413043</td>\n",
       "      <td>0.347826</td>\n",
       "    </tr>\n",
       "    <tr>\n",
       "      <th>yes</th>\n",
       "      <td>0.388889</td>\n",
       "      <td>0.277778</td>\n",
       "      <td>0.333333</td>\n",
       "    </tr>\n",
       "  </tbody>\n",
       "</table>\n",
       "</div>"
      ],
      "text/plain": [
       "language_preferred   English    French   Spanish\n",
       "converted                                       \n",
       "no                  0.239130  0.413043  0.347826\n",
       "yes                 0.388889  0.277778  0.333333"
      ]
     },
     "execution_count": 92,
     "metadata": {},
     "output_type": "execute_result"
    }
   ],
   "source": [
    "# 3. Does the converted status depend on the preferred language?\n",
    "# H0: Yes, it does. \n",
    "\n",
    "# Ha: No, it doesn't. \n",
    "\n",
    "# Since we are dealing with categorical data. We need to use the chi test. \n",
    "# We create a contingency table showing the distribution of the two categorical variables\n",
    "contingency_table = pd.crosstab(df['converted'], df['language_preferred'], normalize='index')\n",
    "contingency_table"
   ]
  },
  {
   "cell_type": "code",
   "execution_count": 94,
   "id": "d6d6892c-b086-48ed-9ed6-bd490503ea05",
   "metadata": {},
   "outputs": [
    {
     "name": "stdout",
     "output_type": "stream",
     "text": [
      "The p-value is 0.97\n"
     ]
    }
   ],
   "source": [
    "# importing the required function\n",
    "from scipy.stats import chi2_contingency\n",
    "\n",
    "# find the p-value\n",
    "chi, p_value, dof, expected = chi2_contingency(contingency_table)\n",
    "print('The p-value is', round(p_value,2))"
   ]
  },
  {
   "cell_type": "code",
   "execution_count": 96,
   "id": "1bb3f04b-c3cc-4bca-af3b-a6ced679ac58",
   "metadata": {},
   "outputs": [
    {
     "name": "stdout",
     "output_type": "stream",
     "text": [
      "There is not signficant evident to reject the null hypothesis\n"
     ]
    }
   ],
   "source": [
    "if p_value< .05:\n",
    "    print('There is significant evidence to reject the null hypothesis')\n",
    "else:\n",
    "    print('There is not signficant evident to reject the null hypothesis')"
   ]
  },
  {
   "cell_type": "code",
   "execution_count": 98,
   "id": "5f27fb3f-0617-42c5-bd14-7524c4040361",
   "metadata": {},
   "outputs": [],
   "source": [
    "# Q 4. Is the time spent on the new page same for the different language users?"
   ]
  },
  {
   "cell_type": "code",
   "execution_count": 100,
   "id": "0e4b2934-50fd-43af-a2c4-cc7592ebd0e8",
   "metadata": {},
   "outputs": [],
   "source": [
    "# Let's create a new DataFrame for users who got served the new page\n",
    "df_new = df[df['landing_page'] == 'new']"
   ]
  },
  {
   "cell_type": "code",
   "execution_count": 102,
   "id": "37c2e148-29a0-48bb-8a39-ad5e1293e2f8",
   "metadata": {},
   "outputs": [
    {
     "data": {
      "image/png": "[encoded data removed]",
      "text/plain": [
       "<Figure size 800x800 with 1 Axes>"
      ]
     },
     "metadata": {},
     "output_type": "display_data"
    }
   ],
   "source": [
    "# Let's visually plot the time spent on the new page for different language users\n",
    "plt.figure(figsize=(8,8))\n",
    "sns.boxplot(x = df['language_preferred'], y = df['time_spent_on_the_page'], showmeans = True, data = df_new)\n",
    "plt.title(\"time spent on page per language\")\n",
    "plt.show()\n"
   ]
  },
  {
   "cell_type": "code",
   "execution_count": 104,
   "id": "40a56f9a-bc47-4308-8550-e6b4cb766364",
   "metadata": {},
   "outputs": [
    {
     "data": {
      "text/plain": [
       "language_preferred\n",
       "English    6.663750\n",
       "French     6.196471\n",
       "Spanish    5.835294\n",
       "Name: time_spent_on_the_page, dtype: float64"
      ]
     },
     "execution_count": 104,
     "metadata": {},
     "output_type": "execute_result"
    }
   ],
   "source": [
    "# Now, let's calculate the mean time spent on the new page for different language users\n",
    "df_new.groupby(['language_preferred'])['time_spent_on_the_page'].mean()\n",
    "\n"
   ]
  },
  {
   "cell_type": "code",
   "execution_count": 106,
   "id": "512c6d92-a2ae-4828-8c92-bcc95473a79b",
   "metadata": {},
   "outputs": [],
   "source": [
    "# Let's define the null and alt hypotheses:"
   ]
  },
  {
   "cell_type": "code",
   "execution_count": 108,
   "id": "74ab0e49-1db4-4732-b53d-84751dd5be64",
   "metadata": {},
   "outputs": [],
   "source": [
    "# H0: They all spend them same amount of time on the new page. \n",
    "\n",
    "# Ha: One of the languages is being used more than the other to visit the new landing page."
   ]
  },
  {
   "cell_type": "code",
   "execution_count": 110,
   "id": "fbe5a25c-a782-4aec-ac6d-c3f44cbbd1fd",
   "metadata": {},
   "outputs": [],
   "source": [
    "# Let's create a subsetted data frame of the time spent on the new page by English language users\n",
    "time_spent_English = df_new[df_new['language_preferred']==\"English\"]['time_spent_on_the_page']\n",
    "# Let's create subsetted data frames of the time spent on the new page by French and Spanish language users\n",
    "time_spent_French = df_new[df_new['language_preferred']==\"French\"]['time_spent_on_the_page']   \n",
    "time_spent_Spanish = df_new[df_new['language_preferred']==\"Spanish\"]['time_spent_on_the_page']  "
   ]
  },
  {
   "cell_type": "code",
   "execution_count": 112,
   "id": "7e2073f1-150a-46e5-bd10-004d21f5b3ee",
   "metadata": {},
   "outputs": [
    {
     "name": "stdout",
     "output_type": "stream",
     "text": [
      "The p-value is 0.46711357711340173\n"
     ]
    }
   ],
   "source": [
    "from scipy.stats import levene\n",
    "\n",
    "# write the code to calculate the p-value\n",
    "test_stat, p_value = levene(time_spent_English, time_spent_French, time_spent_Spanish)   \n",
    "print('The p-value is', p_value)"
   ]
  },
  {
   "cell_type": "code",
   "execution_count": 114,
   "id": "3080b983-dc3e-4148-a285-e34233d73b43",
   "metadata": {},
   "outputs": [
    {
     "name": "stdout",
     "output_type": "stream",
     "text": [
      "There is not signficant evident to reject the null hypothesis\n"
     ]
    }
   ],
   "source": [
    "if p_value< .05:\n",
    "    print('There is significant evidence to reject the null hypothesis')\n",
    "else:\n",
    "    print('There is not signficant evident to reject the null hypothesis')"
   ]
  },
  {
   "cell_type": "code",
   "execution_count": 116,
   "id": "5cdab539-5261-4432-a8e7-b131498743f5",
   "metadata": {},
   "outputs": [
    {
     "data": {
      "text/plain": [
       "' 2. Is the conversion rate (the proportion of users who visit the landing page and get converted)\\nfor the new page greater than the conversion rate for the old page?'"
      ]
     },
     "execution_count": 116,
     "metadata": {},
     "output_type": "execute_result"
    }
   ],
   "source": [
    "\n",
    "# Conclusion:\n",
    "\n",
    "# 1. Do the users spend more time on the new landing page than the existing landing page?\n",
    "# Yes, they do. \n",
    "\n",
    "\"\"\" 2. Is the conversion rate (the proportion of users who visit the landing page and get converted)\n",
    "for the new page greater than the conversion rate for the old page?\"\"\"\n",
    "# Yes, the conversion rate for the new page is greater than the old page. \n",
    "\n",
    "# 3. Is the conversion and preferred language are independent or related?\n",
    "# No, they are not dependent.  \n",
    "\n",
    "# 4. Is the time spent on the new page same for the different language users?\n",
    "# No, it is not. "
   ]
  },
  {
   "cell_type": "code",
   "execution_count": 118,
   "id": "00bbd99a-5da5-4a50-96bc-546a8b79942e",
   "metadata": {},
   "outputs": [],
   "source": [
    "#Business Recommendations\n",
    "# It is recommended that the company uses the newly created landing page as it leads to more conversions. "
   ]
  },
  {
   "cell_type": "code",
   "execution_count": null,
   "id": "0b6c865e-1268-4b60-871d-a02813add1e0",
   "metadata": {},
   "outputs": [],
   "source": []
  }
 ],
 "metadata": {
  "kernelspec": {
   "display_name": "Python [conda env:base] *",
   "language": "python",
   "name": "conda-base-py"
  },
  "language_info": {
   "codemirror_mode": {
    "name": "ipython",
    "version": 3
   },
   "file_extension": ".py",
   "mimetype": "text/x-python",
   "name": "python",
   "nbconvert_exporter": "python",
   "pygments_lexer": "ipython3",
   "version": "3.12.7"
  }
 },
 "nbformat": 4,
 "nbformat_minor": 5
}
